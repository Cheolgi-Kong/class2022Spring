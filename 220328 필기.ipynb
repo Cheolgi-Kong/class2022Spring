{
  "nbformat": 4,
  "nbformat_minor": 0,
  "metadata": {
    "colab": {
      "name": "gradio_practice.ipynb",
      "provenance": [],
      "include_colab_link": true
    },
    "kernelspec": {
      "name": "python3",
      "display_name": "Python 3"
    },
    "language_info": {
      "name": "python"
    }
  },
  "cells": [
    {
      "cell_type": "markdown",
      "metadata": {
        "id": "view-in-github",
        "colab_type": "text"
      },
      "source": [
        "<a href=\"https://colab.research.google.com/github/Cheolgi-Kong/class2022Spring/blob/main/220328%20%ED%95%84%EA%B8%B0.ipynb\" target=\"_parent\"><img src=\"https://colab.research.google.com/assets/colab-badge.svg\" alt=\"Open In Colab\"/></a>"
      ]
    },
    {
      "cell_type": "code",
      "execution_count": null,
      "metadata": {
        "id": "ZhrL6xVSQ9bS"
      },
      "outputs": [],
      "source": [
        "def sum(a, b):    # 더하기 함수를 정의. def sum(입력변수)\n",
        "\n",
        "  c = int(a + b)   # c= a+b  또는 return = a+b 로 해도 됨. \n",
        "  c = '정답은 ' + str(c) + '입니다'\n",
        "  return c"
      ]
    },
    {
      "cell_type": "code",
      "source": [
        "sum(2,3)"
      ],
      "metadata": {
        "id": "1HIgbjYWSBNX"
      },
      "execution_count": null,
      "outputs": []
    },
    {
      "cell_type": "code",
      "source": [
        "!pip install gradio  #gradio = library or package or module.  근데 바로 import 불가능. 설치부터 해줘야 -> !pop install gradio"
      ],
      "metadata": {
        "id": "sfMdWugISD5M"
      },
      "execution_count": null,
      "outputs": []
    },
    {
      "cell_type": "code",
      "source": [
        "import gradio as gr  # 설치해 준 후, import"
      ],
      "metadata": {
        "id": "buyjOWYWS41q"
      },
      "execution_count": null,
      "outputs": []
    },
    {
      "cell_type": "code",
      "source": [
        "iface = gr.Interface(sum, inputs = [\"number\", \"number\"], outputs = [\"text\"])   #gradio를 쓰는 방법 -> gr.Interface(함수명, 입력 type, 출력 type) -> 위에서 정의한 sum 함수의 입력 변수 2개 출력 1개이므로 여기서도 갯수 맞춰줘야. +)입출력의 type도 맞추어 줘야.\n",
        "iface.launch()  #입출력의 type 맞추어 주는 법. 출력에는 숫자가 없으므로(gradio document 참고) text로 나와야 함. -> 첫 번째 코드 return str(c) -> iface.launch() 까지 해주어야 실행. -> 실행하고 아래 뜬 url 클릭. -> 새 웹브라우저에서 실행됨. -> 새로운 웹브라우저를 만든 것. -> 새로운 웹 브라우저에서 덧셈을 해봤는데 정수가 아닌 소숫점까지 나오면 -> 첫 번째 코드 c=int(a+b) -> 깔끔하게 정수로 표시"
      ],
      "metadata": {
        "id": "vNlrBEbSS7ge"
      },
      "execution_count": null,
      "outputs": []
    },
    {
      "cell_type": "code",
      "source": [
        "iface = gr.Interface(sum, [gr.inputs.Number(label='input1'), gr.inputs.Number(label='input2')], gr.outputs.Textbox(label='answer')) #위에서 만든 브라우저를 조금 더 예쁘게 만들어주는 법. gr.imputs.Number(label='이름'), gr.outputsTextvox(label='이름')\n",
        "iface.launch()   # 만약 위의 내용을 모르겠다면 구글에 gradio -> gradio document -> imput components 와 output components에서 찾아 맨 위 참고"
      ],
      "metadata": {
        "id": "9C_eEMRCWExA"
      },
      "execution_count": null,
      "outputs": []
    }
  ]
}