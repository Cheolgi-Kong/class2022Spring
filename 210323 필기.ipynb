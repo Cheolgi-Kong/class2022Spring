{
  "nbformat": 4,
  "nbformat_minor": 0,
  "metadata": {
    "colab": {
      "name": "requests_gradio.ipynb",
      "provenance": [],
      "include_colab_link": true
    },
    "kernelspec": {
      "name": "python3",
      "display_name": "Python 3"
    },
    "language_info": {
      "name": "python"
    }
  },
  "cells": [
    {
      "cell_type": "markdown",
      "metadata": {
        "id": "view-in-github",
        "colab_type": "text"
      },
      "source": [
        "<a href=\"https://colab.research.google.com/github/Cheolgi-Kong/class2022Spring/blob/main/210323%20%ED%95%84%EA%B8%B0.ipynb\" target=\"_parent\"><img src=\"https://colab.research.google.com/assets/colab-badge.svg\" alt=\"Open In Colab\"/></a>"
      ]
    },
    {
      "cell_type": "code",
      "source": [
        "!pip install gradio # gradio를 설치해 주어야 맨 아래 명령 실행 가능\n",
        " # data.go.kr에 가입. -> brian310 -> 데이터 찾기 -> 미세먼지 -> 오픈API -> 한국환경공단_에어코리아_미세먼지 -> 참고문서 다운 -> d)요청/응답 메세지 예제 -> 요청메세지 복사 -> 콜랩에 +코드 -> request.get(붙여넣기) -> 띄어있는 부분 공백 삭제해서 붙이기\n",
        "import gradio as gr\n",
        "import requests   #API를 쓰는 데에 필수적인 명령어. 아래 코드 확인. \n",
        "import pandas as pd"
      ],
      "metadata": {
        "id": "8eZHGJhmqd9a"
      },
      "execution_count": null,
      "outputs": []
    },
    {
      "cell_type": "code",
      "source": [
        "URL = ('http://apis.data.go.kr/B552584/ArpltnStatsSvc/'  #주소 -> 참고문서의 서비스 URL과 일치\n",
        "      'getCtprvnMesureSidoLIst?'  #참고문서의 상세기능명(영문)과 일치.\n",
        "      'sidoName=서울'  # 참고문서 b)요청메세지 명세의 시도 명과 일치\n",
        "      '&searchCondition=hour'  # 여러 개 할 때는 두 번째 것부터 & 꼭 붙여주기. 매시간.\n",
        "      '&pageNo=1'  \n",
        "      '&numOfRows=100'\n",
        "      '&returnType=json'\n",
        "      '&serviceKey=miH%2BZXg85lQy4%2FkmhffvygXDIFiTwisriSLxtyECSzw6hxTVK7yI8QKIOc7mP7LEqCnhBGuj6iW1gZW65dum7A%3D%3D')  # 암호. 여기까지의 긴 텍스트가 전부 주소. 이것을 URL이라는 변수로 받아줌.\n",
        "response = requests.get(URL)    # requests.get(변수)\n",
        " # 코드 추가 해서 print(response) -> response(200) 나옴. -> 구글 창에 response code requests python 200 검색해보면 -> 잘 처리가 됐다는 뜻.   #여기서 API 불러오는 과정은 끝남. 아래 과정은 보기 좋게 엑셀 형식으로 만들어주는 과정."
      ],
      "metadata": {
        "id": "lHHEwqpyJF7r"
      },
      "execution_count": null,
      "outputs": []
    },
    {
      "cell_type": "markdown",
      "source": [
        "#### http://jsonviewer.stack.hu/ (copy json here to view json)"
      ],
      "metadata": {
        "id": "faIENRyFfnY1"
      }
    },
    {
      "cell_type": "code",
      "source": [
        "r = response.json()  # 위에 입력한 response를 json의 파일형태로 받아줌. 굉장히 복잡. -> 결과 값 전체를 복사 -> http://jsonviewer.stack.hu/ 사이트 들어가서 -> 붙여넣기 -> viwer 클릭 -> response+ -> body + -> items+ -> 총 25개의 items -> 정리\n",
        "r"
      ],
      "metadata": {
        "id": "JcLKwg0foR9p"
      },
      "execution_count": null,
      "outputs": []
    },
    {
      "cell_type": "code",
      "source": [
        "items = r['response']['body']['items']  # 위에서 r로 받은 것 중에 response의 body의 items들을 'items'라는 변수로 입력. items는 list형태(대괄호로 묶여서 ,들이 있는)로 되어 있음.\n",
        "\n",
        "cityName = [item['cityName'] for item in items]  #  값들을 만들기. items의 25개 내용물들에 for 루프를 걸어서 하나씩. (item의 cityname의 값들을 'CityName'이라는 변수에 넣어라.)\n",
        "pm10Value = [item['pm10Value'] for item in items]\n",
        "pm25Value = [item['pm25Value'] for item in items]\n",
        "so2Value = [item['so2Value'] for item in items]\n",
        "coValue = [item['coValue'] for item in items]\n",
        "o3Value = [item['o3Value'] for item in items]\n",
        "no2Value = [item['no2Value'] for item in items]\n",
        "\n",
        "cityName = pd.Series(cityName)  #총 7개의 column들을 만들기. pd.series라는 함수 이용해서.\n",
        "pm10Value = pd.Series(pm10Value)   \n",
        "pm25Value = pd.Series(pm25Value)\n",
        "so2Value = pd.Series(so2Value)\n",
        "coValue = pd.Series(coValue)\n",
        "o3Value = pd.Series(o3Value)\n",
        "no2Value = pd.Series(no2Value)\n",
        "\n",
        "df = pd.DataFrame({ 'cityName': cityName, 'pm10Value': pm10Value, 'pm25Value': pm25Value, 'so2Value': so2Value, 'coValue': coValue, 'o3Value': o3Value, 'no2Value': no2Value})  # pd.DataFrame({'column 명' : 위에서 설정한 value 값}) -> 즉 열명:열의내용"
      ],
      "metadata": {
        "id": "W8lA0-IzE55W"
      },
      "execution_count": null,
      "outputs": []
    },
    {
      "cell_type": "code",
      "source": [
        "def test(sidoName):     # 함수 만들어줌. Ex. test라는 함수에 입력값으로 서울 이라는 이름이 들어오면 그에 해당하는 data frame을 만들어줘라.\n",
        "  URL = ('http://apis.data.go.kr/B552584/ArpltnStatsSvc/'\n",
        "      'getCtprvnMesureSidoLIst?'\n",
        "      'sidoName='+sidoName+\n",
        "      '&searchCondition=hour'\n",
        "      '&pageNo=1'\n",
        "      '&numOfRows=100'\n",
        "      '&returnType=json'\n",
        "      '&serviceKey=miH%2BZXg85lQy4%2FkmhffvygXDIFiTwisriSLxtyECSzw6hxTVK7yI8QKIOc7mP7LEqCnhBGuj6iW1gZW65dum7A%3D%3D')\n",
        "  \n",
        "  response = requests.get(URL)\n",
        "  r = response.json()\n",
        "  items = r['response']['body']['items']\n",
        "\n",
        "  cityName = [item['cityName'] for item in items]\n",
        "  pm10Value = [item['pm10Value'] for item in items]\n",
        "  pm25Value = [item['pm25Value'] for item in items]\n",
        "  so2Value = [item['so2Value'] for item in items]\n",
        "  coValue = [item['coValue'] for item in items]\n",
        "  o3Value = [item['o3Value'] for item in items]\n",
        "  no2Value = [item['no2Value'] for item in items]\n",
        "\n",
        "  cityName = pd.Series(cityName)\n",
        "  pm10Value = pd.Series(pm10Value)   \n",
        "  pm25Value = pd.Series(pm25Value)\n",
        "  so2Value = pd.Series(so2Value)\n",
        "  coValue = pd.Series(coValue)\n",
        "  o3Value = pd.Series(o3Value)\n",
        "  no2Value = pd.Series(no2Value)\n",
        "\n",
        "  df = pd.DataFrame({ 'cityName': cityName, 'pm10Value': pm10Value, 'pm25Value': pm25Value, 'so2Value': so2Value, 'coValue': coValue, 'o3Value': o3Value, 'no2Value': no2Value})\n",
        "  return df"
      ],
      "metadata": {
        "id": "xa2Gb_qsm_G5"
      },
      "execution_count": null,
      "outputs": []
    },
    {
      "cell_type": "code",
      "source": [
        "iface = gr.Interface(test, gr.inputs.Dropdown(['서울', '부산', '대구', '인천', '광주', '대전', '울산', '경기', '강원', '충북', '충남', '전북', '전남', '경북', '경남', '제주', '세종']), outputs=['dataframe'])  # 위에서 설정한 test함수를 입력값으로 넣음. 실행 해서 아래 URL 타고 들어가면 됨\n",
        "iface.launch(debug=True)  # 그러면 현재 미세먼지 정보 싹 정리되어서 보기 좋게 나옴. (gradio가 최종 형태)"
      ],
      "metadata": {
        "id": "kxORJVPOnDSP",
        "outputId": "f394f8de-539c-4e16-db4b-1bd253f38645",
        "colab": {
          "base_uri": "https://localhost:8080/",
          "height": 591
        }
      },
      "execution_count": null,
      "outputs": [
        {
          "output_type": "stream",
          "name": "stdout",
          "text": [
            "Colab notebook detected. This cell will run indefinitely so that you can see errors and logs. To turn off, set debug=False in launch().\n",
            "Running on public URL: https://14609.gradio.app\n",
            "\n",
            "This share link expires in 72 hours. For free permanent hosting, check out Spaces (https://huggingface.co/spaces)\n"
          ]
        },
        {
          "output_type": "display_data",
          "data": {
            "text/plain": [
              "<IPython.lib.display.IFrame at 0x7f7106ad3ed0>"
            ],
            "text/html": [
              "\n",
              "        <iframe\n",
              "            width=\"900\"\n",
              "            height=\"500\"\n",
              "            src=\"https://14609.gradio.app\"\n",
              "            frameborder=\"0\"\n",
              "            allowfullscreen\n",
              "        ></iframe>\n",
              "        "
            ]
          },
          "metadata": {}
        }
      ]
    }
  ]
}